{
 "cells": [
  {
   "cell_type": "code",
   "execution_count": 1,
   "metadata": {},
   "outputs": [
    {
     "name": "stdout",
     "output_type": "stream",
     "text": [
      "WARNING:tensorflow:From /home/henripal/anaconda3/lib/python3.6/site-packages/tensorflow/contrib/learn/python/learn/datasets/base.py:198: retry (from tensorflow.contrib.learn.python.learn.datasets.base) is deprecated and will be removed in a future version.\n",
      "Instructions for updating:\n",
      "Use the retry module or similar alternatives.\n"
     ]
    },
    {
     "name": "stderr",
     "output_type": "stream",
     "text": [
      "/home/henripal/anaconda3/lib/python3.6/site-packages/statsmodels/compat/pandas.py:56: FutureWarning: The pandas.core.datetools module is deprecated and will be removed in a future version. Please use the pandas.tseries module instead.\n",
      "  from pandas.core import datetools\n"
     ]
    }
   ],
   "source": [
    "import numpy as np\n",
    "import tensorflow as tf\n",
    "from tensorflow.python import pywrap_tensorflow\n",
    "\n",
    "import matplotlib.pyplot as plt\n",
    "%matplotlib inline\n",
    "%load_ext autoreload\n",
    "%autoreload 2\n",
    "\n",
    "import os\n",
    "import sgld_tf\n",
    "\n",
    "from multiprocessing import Pool\n",
    "\n",
    "import warnings\n",
    "warnings.filterwarnings(\"ignore\")"
   ]
  },
  {
   "cell_type": "code",
   "execution_count": 2,
   "metadata": {},
   "outputs": [
    {
     "name": "stdout",
     "output_type": "stream",
     "text": [
      "['dense_1/kernel', 'dense_1/bias', 'dense/bias', 'conv2d/bias', 'conv2d/kernel', 'conv2d_1/kernel', 'conv2d_1/bias', 'dense/kernel']\n",
      "hist shape:  (508, 3274634)\n",
      "max std:  0.00484904\n"
     ]
    }
   ],
   "source": [
    "sgd, sgd_stdevs = sgld_tf.analyze_directory('/tmp/tf/sgd/')"
   ]
  },
  {
   "cell_type": "code",
   "execution_count": 3,
   "metadata": {},
   "outputs": [
    {
     "name": "stdout",
     "output_type": "stream",
     "text": [
      "['dense_1/kernel', 'dense_1/bias', 'dense/bias', 'conv2d/bias', 'conv2d/kernel', 'conv2d_1/kernel', 'conv2d_1/bias', 'dense/kernel']\n",
      "hist shape:  (510, 3274634)\n",
      "max std:  0.0287676\n"
     ]
    }
   ],
   "source": [
    "sgld, sgld_stdevs = sgld_tf.analyze_directory('/tmp/tf/sgld/')"
   ]
  },
  {
   "cell_type": "code",
   "execution_count": 4,
   "metadata": {},
   "outputs": [
    {
     "name": "stdout",
     "output_type": "stream",
     "text": [
      "['conv2d_1/bias', 'conv2d/kernel', 'conv2d/bias', 'dense/bias', 'dense/kernel', 'conv2d_1/kernel', 'dense_1/kernel', 'dense_1/bias']\n",
      "hist shape:  (510, 3274634)\n",
      "max std:  0.0307595\n"
     ]
    }
   ],
   "source": [
    "psgld, psgld_stdevs = sgld_tf.analyze_directory('/tmp/tf/psgld/')"
   ]
  },
  {
   "cell_type": "code",
   "execution_count": 5,
   "metadata": {},
   "outputs": [
    {
     "name": "stdout",
     "output_type": "stream",
     "text": [
      "['dense_1/bias', 'dense/kernel', 'dense/bias', 'dense_1/kernel', 'conv2d_1/kernel', 'conv2d/bias', 'conv2d/kernel', 'conv2d_1/bias']\n",
      "hist shape:  (515, 3274634)\n",
      "max std:  0.0332077\n"
     ]
    }
   ],
   "source": [
    "ksgld, ksgld_stdevs = sgld_tf.analyze_directory('/tmp/tf/ksgld/')"
   ]
  },
  {
   "cell_type": "code",
   "execution_count": 6,
   "metadata": {},
   "outputs": [
    {
     "name": "stdout",
     "output_type": "stream",
     "text": [
      "split:  0\n",
      "percentage of finite:  0.99318061194\n",
      "(2.6756070568322379, 5.0475333766047195)\n",
      "split:  1\n",
      "percentage of finite:  0.988038663252\n",
      "(2.6273241713823774, 3.9275118837696974)\n",
      "split:  2\n",
      "percentage of finite:  0.988514136236\n",
      "(2.6295964125560536, 4.1998649229006926)\n",
      "split:  3\n",
      "percentage of finite:  0.988406032552\n",
      "(2.6631585702367966, 4.4172248754846217)\n",
      "split:  4\n",
      "percentage of finite:  0.988836615023\n",
      "(2.641733452062927, 4.5536075263446687)\n",
      "split:  0\n",
      "percentage of finite:  1.0\n",
      "(3.1010006764659939, 5.420887399526217)\n",
      "split:  1\n",
      "percentage of finite:  1.0\n",
      "(3.1094343604602743, 5.4188308562601319)\n",
      "split:  2\n",
      "percentage of finite:  1.0\n",
      "(3.1045892661244832, 5.4136631844344469)\n",
      "split:  3\n",
      "percentage of finite:  1.0\n",
      "(3.1030060821174819, 5.3707828654079401)\n",
      "split:  4\n",
      "percentage of finite:  1.0\n",
      "(3.109189703082782, 5.4240821085196327)\n",
      "split:  0\n",
      "percentage of finite:  1.0\n",
      "(3.0960971979409679, 5.4133632118403154)\n",
      "split:  1\n",
      "percentage of finite:  1.0\n",
      "(3.1017092186919166, 5.4155506947929908)\n",
      "split:  2\n",
      "percentage of finite:  1.0\n",
      "(3.1092496546861597, 5.3827568272375359)\n",
      "split:  3\n",
      "percentage of finite:  1.0\n",
      "(3.1025621531322862, 5.4182472597051143)\n",
      "split:  4\n",
      "percentage of finite:  1.0\n",
      "(3.1049289473358077, 5.3879678708726821)\n",
      "split:  0\n",
      "percentage of finite:  1.0\n",
      "(3.1006770093449836, 5.3998026787818496)\n",
      "split:  1\n",
      "percentage of finite:  1.0\n",
      "(3.0969521186018238, 5.3900323688018696)\n",
      "split:  2\n",
      "percentage of finite:  1.0\n",
      "(3.1004843950508447, 5.3800628282818721)\n",
      "split:  3\n",
      "percentage of finite:  1.0\n",
      "(3.1027594884931924, 5.3755540552317003)\n",
      "split:  4\n",
      "percentage of finite:  1.0\n",
      "(3.1078210101727484, 5.3891851079158224)\n"
     ]
    }
   ],
   "source": [
    "sgd_mess = sgld_tf.split_mess(sgd, 5, 100)\n",
    "sgld_mess = sgld_tf.split_mess(sgld, 5, 100)\n",
    "psgld_mess = sgld_tf.split_mess(psgld, 5, 100)\n",
    "ksgld_mess = sgld_tf.split_mess(ksgld, 5, 100)"
   ]
  },
  {
   "cell_type": "code",
   "execution_count": 61,
   "metadata": {},
   "outputs": [
    {
     "data": {
      "image/png": "[encoded data removed]",
      "text/plain": [
       "<matplotlib.figure.Figure at 0x7fc7d7fbeef0>"
      ]
     },
     "metadata": {},
     "output_type": "display_data"
    }
   ],
   "source": [
    "plt.figure(figsize=(4.5, 3))\n",
    "plt.plot([y for x, y in sgd_mess], label=\"FSGD\", color='black')\n",
    "plt.plot([y for x, y in sgld_mess], label=\"SGLD\", color='red')\n",
    "plt.plot([y for x, y in psgld_mess], label=\"pSGLD\", color='royalblue')\n",
    "plt.plot([y for x, y in ksgld_mess], label=\"KSGLD\", color='darkorange')\n",
    "plt.xlabel('')\n",
    "plt.xticks(np.arange(0, 4.5, .5), np.arange(2, 11))\n",
    "plt.xlabel('Epoch')\n",
    "plt.ylabel('mESS')\n",
    "plt.tight_layout()\n",
    "plt.legend(loc=(.7, .48))\n",
    "plt.savefig('../../overleaf/img/ess.eps')"
   ]
  },
  {
   "cell_type": "code",
   "execution_count": null,
   "metadata": {},
   "outputs": [],
   "source": []
  }
 ],
 "metadata": {
  "kernelspec": {
   "display_name": "Python 3",
   "language": "python",
   "name": "python3"
  },
  "language_info": {
   "codemirror_mode": {
    "name": "ipython",
    "version": 3
   },
   "file_extension": ".py",
   "mimetype": "text/x-python",
   "name": "python",
   "nbconvert_exporter": "python",
   "pygments_lexer": "ipython3",
   "version": "3.6.3"
  }
 },
 "nbformat": 4,
 "nbformat_minor": 2
}
