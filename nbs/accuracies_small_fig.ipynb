{
 "cells": [
  {
   "cell_type": "code",
   "execution_count": 1,
   "metadata": {},
   "outputs": [],
   "source": [
    "import tensorflow as tf\n",
    "import numpy as np\n",
    "import matplotlib.pyplot as plt\n",
    "%matplotlib inline\n",
    "tf.logging.set_verbosity(tf.logging.ERROR)"
   ]
  },
  {
   "cell_type": "code",
   "execution_count": 2,
   "metadata": {},
   "outputs": [],
   "source": [
    "%load_ext autoreload"
   ]
  },
  {
   "cell_type": "code",
   "execution_count": 3,
   "metadata": {},
   "outputs": [],
   "source": [
    "%autoreload 2"
   ]
  },
  {
   "cell_type": "code",
   "execution_count": 5,
   "metadata": {},
   "outputs": [],
   "source": [
    "import sgld_tf"
   ]
  },
  {
   "cell_type": "code",
   "execution_count": 7,
   "metadata": {},
   "outputs": [],
   "source": [
    "smalled = 3000"
   ]
  },
  {
   "cell_type": "code",
   "execution_count": 8,
   "metadata": {},
   "outputs": [
    {
     "name": "stdout",
     "output_type": "stream",
     "text": [
      "Extracting MNIST-data/train-images-idx3-ubyte.gz\n",
      "Extracting MNIST-data/train-labels-idx1-ubyte.gz\n",
      "Extracting MNIST-data/t10k-images-idx3-ubyte.gz\n",
      "Extracting MNIST-data/t10k-labels-idx1-ubyte.gz\n"
     ]
    }
   ],
   "source": [
    "mnist = tf.contrib.learn.datasets.load_dataset(\"mnist\")\n",
    "train_data = mnist.train.images[:smalled] # Returns np.array\n",
    "train_labels = np.asarray(mnist.train.labels, dtype=np.int32)[:smalled]\n",
    "eval_data = mnist.test.images # Returns np.array\n",
    "eval_labels = np.asarray(mnist.test.labels, dtype=np.int32)"
   ]
  },
  {
   "cell_type": "code",
   "execution_count": 11,
   "metadata": {},
   "outputs": [],
   "source": [
    "directory = '/tmp/tf/sgd_smalled/'"
   ]
  },
  {
   "cell_type": "code",
   "execution_count": 10,
   "metadata": {},
   "outputs": [],
   "source": [
    "def historical_accuracies(directory, n_points, point_size, stride, method, train_data, train_labels, eval_data, eval_labels):\n",
    "    data = sgld_tf.ordered_chkpoints_from_dir(directory)\n",
    "    accuracies = []\n",
    "    for i in range(n_points):\n",
    "        print(\"item \", (i*stride, i*stride + point_size))\n",
    "        checkpoints = data[i*stride:i*stride+point_size]\n",
    "        accuracy, _ = sgld_tf.aggregate_predictions(directory,\n",
    "                                                   checkpoints,\n",
    "                                                   train_data,\n",
    "                                                   train_labels,\n",
    "                                                   eval_data,\n",
    "                                                   eval_labels,\n",
    "                                                   method)\n",
    "        accuracies.append(accuracy)\n",
    "        \n",
    "    return accuracies"
   ]
  },
  {
   "cell_type": "code",
   "execution_count": 13,
   "metadata": {},
   "outputs": [
    {
     "name": "stdout",
     "output_type": "stream",
     "text": [
      "item  (0, 1)\n",
      "item  (50, 51)\n",
      "item  (100, 101)\n",
      "item  (150, 151)\n",
      "item  (200, 201)\n",
      "item  (250, 251)\n",
      "item  (300, 301)\n",
      "item  (350, 351)\n",
      "item  (400, 401)\n",
      "item  (450, 451)\n",
      "item  (500, 501)\n"
     ]
    }
   ],
   "source": [
    "accuracies = historical_accuracies(directory,\n",
    "                                   11,\n",
    "                                   1,\n",
    "                                   50, 'sgd', train_data, train_labels, eval_data, eval_labels)"
   ]
  },
  {
   "cell_type": "code",
   "execution_count": 14,
   "metadata": {},
   "outputs": [
    {
     "name": "stdout",
     "output_type": "stream",
     "text": [
      "item  (0, 50)\n",
      "item  (50, 100)\n",
      "item  (100, 150)\n",
      "item  (150, 200)\n",
      "item  (200, 250)\n",
      "item  (250, 300)\n",
      "item  (300, 350)\n",
      "item  (350, 400)\n",
      "item  (400, 450)\n",
      "item  (450, 500)\n"
     ]
    }
   ],
   "source": [
    "sgda_accuracies = historical_accuracies(directory,\n",
    "                                        10,\n",
    "                                        50,\n",
    "                                        50, 'sgd', train_data, train_labels, eval_data, eval_labels)"
   ]
  },
  {
   "cell_type": "code",
   "execution_count": 15,
   "metadata": {},
   "outputs": [
    {
     "name": "stdout",
     "output_type": "stream",
     "text": [
      "item  (0, 50)\n",
      "item  (50, 100)\n",
      "item  (100, 150)\n",
      "item  (150, 200)\n",
      "item  (200, 250)\n",
      "item  (250, 300)\n",
      "item  (300, 350)\n",
      "item  (350, 400)\n",
      "item  (400, 450)\n",
      "item  (450, 500)\n"
     ]
    }
   ],
   "source": [
    "sgld_accuracies = historical_accuracies('/tmp/tf/sgld_smalled/',\n",
    "                                        10,\n",
    "                                        50,\n",
    "                                        50, 'sgld', train_data, train_labels, eval_data, eval_labels)"
   ]
  },
  {
   "cell_type": "code",
   "execution_count": 16,
   "metadata": {},
   "outputs": [
    {
     "name": "stdout",
     "output_type": "stream",
     "text": [
      "item  (0, 50)\n",
      "item  (50, 100)\n",
      "item  (100, 150)\n",
      "item  (150, 200)\n",
      "item  (200, 250)\n",
      "item  (250, 300)\n",
      "item  (300, 350)\n",
      "item  (350, 400)\n",
      "item  (400, 450)\n",
      "item  (450, 500)\n"
     ]
    }
   ],
   "source": [
    "psgld_accuracies = historical_accuracies('/tmp/tf/psgld_smalled/',\n",
    "                                        10,\n",
    "                                        50,\n",
    "                                        50, 'psgld', train_data, train_labels, eval_data, eval_labels)"
   ]
  },
  {
   "cell_type": "code",
   "execution_count": 17,
   "metadata": {},
   "outputs": [
    {
     "name": "stdout",
     "output_type": "stream",
     "text": [
      "item  (0, 50)\n",
      "item  (50, 100)\n",
      "item  (100, 150)\n",
      "item  (150, 200)\n",
      "item  (200, 250)\n",
      "item  (250, 300)\n",
      "item  (300, 350)\n",
      "item  (350, 400)\n",
      "item  (400, 450)\n",
      "item  (450, 500)\n"
     ]
    }
   ],
   "source": [
    "ksgld_accuracies = historical_accuracies('/tmp/tf/ksgld_smalled/',\n",
    "                                        10,\n",
    "                                        50,\n",
    "                                        50, 'ksgld', train_data, train_labels, eval_data, eval_labels)"
   ]
  },
  {
   "cell_type": "code",
   "execution_count": 18,
   "metadata": {},
   "outputs": [
    {
     "name": "stdout",
     "output_type": "stream",
     "text": [
      "item  (0, 1)\n",
      "item  (50, 51)\n",
      "item  (100, 101)\n",
      "item  (150, 151)\n",
      "item  (200, 201)\n",
      "item  (250, 251)\n",
      "item  (300, 301)\n",
      "item  (350, 351)\n",
      "item  (400, 401)\n",
      "item  (450, 451)\n",
      "item  (500, 501)\n"
     ]
    }
   ],
   "source": [
    "sglda_accuracies = historical_accuracies('/tmp/tf/sgld_smalled/',\n",
    "                                        11,\n",
    "                                        1,\n",
    "                                        50, 'sgld', train_data, train_labels, eval_data, eval_labels)"
   ]
  },
  {
   "cell_type": "code",
   "execution_count": 30,
   "metadata": {},
   "outputs": [
    {
     "data": {
      "text/plain": [
       "<matplotlib.legend.Legend at 0x7f13e7331400>"
      ]
     },
     "execution_count": 30,
     "metadata": {},
     "output_type": "execute_result"
    },
    {
     "data": {
      "image/png": "[encoded data removed]",
      "text/plain": [
       "<matplotlib.figure.Figure at 0x7f13e6c07978>"
      ]
     },
     "metadata": {},
     "output_type": "display_data"
    }
   ],
   "source": [
    "fig, ax1 = plt.subplots(figsize=(4.5,3))\n",
    "ax1.plot(accuracies[1:], '--', c='black', label='SGD')\n",
    "ax1.plot(sgda_accuracies[0:], label='FSGD', c='black')\n",
    "ax1.plot(sgld_accuracies[0:], label='SGLD', c='red')\n",
    "ax1.plot(psgld_accuracies[0:], label='PSGLD', c='royalblue')\n",
    "ax1.plot(ksgld_accuracies[0:], label='KSGLD', c='darkorange')\n",
    "\n",
    "ax1.legend()"
   ]
  },
  {
   "cell_type": "code",
   "execution_count": 27,
   "metadata": {},
   "outputs": [
    {
     "name": "stderr",
     "output_type": "stream",
     "text": [
      "/home/henripal/anaconda3/lib/python3.6/site-packages/matplotlib/figure.py:1999: UserWarning: This figure includes Axes that are not compatible with tight_layout, so results might be incorrect.\n",
      "  warnings.warn(\"This figure includes Axes that are not compatible \"\n"
     ]
    },
    {
     "data": {
      "image/png": "[encoded data removed]",
      "text/plain": [
       "<matplotlib.figure.Figure at 0x7f13e6beb978>"
      ]
     },
     "metadata": {},
     "output_type": "display_data"
    }
   ],
   "source": [
    "fig, ax1 = plt.subplots(figsize=(4.5,3))\n",
    "ax1.plot(accuracies[1:], '--', c='black', label='SGD')\n",
    "ax1.plot(sgda_accuracies[0:], label='FSGD', c='black')\n",
    "ax1.plot(sgld_accuracies[0:], label='SGLD', c='red')\n",
    "ax1.plot(psgld_accuracies[0:], label='PSGLD', c='royalblue')\n",
    "ax1.plot(ksgld_accuracies[0:], label='KSGLD', c='darkorange')\n",
    "\n",
    "ax1.legend()\n",
    "#ax1.set_ylim([.93, .965])\n",
    "ax1.set_xticks(np.arange(0, 10))\n",
    "ax1.set_xticklabels(np.arange(1, 11))\n",
    "yticks = ax1.get_yticks()\n",
    "ax1.set_yticklabels(['{:2.1f}%'.format(x*100) for x in yticks])\n",
    "ax1.set_xlabel('Epoch')\n",
    "ax1.set_ylabel('Test Accuracy')\n",
    "\n",
    "l, b, w, h = [.45, .3, .25, .25]\n",
    "ax2 = fig.add_axes([l, b, w, h])\n",
    "start_i = 7\n",
    "ax2.plot(accuracies[start_i+1:], '--', label='SGD', c='black')\n",
    "ax2.plot(sgda_accuracies[start_i:], label='FSGD', c='black')\n",
    "ax2.plot(sgld_accuracies[start_i:], label='SGLD', c='red')\n",
    "ax2.plot(psgld_accuracies[start_i:], label='pSGLD', c='royalblue')\n",
    "ax2.plot(ksgld_accuracies[start_i:], label='KSGLD', c='darkorange')\n",
    "\n",
    "yticks2 = ax2.get_yticks()\n",
    "ax2.set_yticklabels(['{:2.1f}%'.format(x*100) for x in yticks2])\n",
    "\n",
    "ax2.set_xticks([0, 1, 2])\n",
    "ax2.set_xticklabels([8, 9, 10])\n",
    "plt.tight_layout()\n",
    "\n",
    "plt.savefig('../../overleaf/img/accuracy_small.eps')"
   ]
  },
  {
   "cell_type": "code",
   "execution_count": 28,
   "metadata": {},
   "outputs": [
    {
     "name": "stdout",
     "output_type": "stream",
     "text": [
      "0.9601\n",
      "0.9595\n",
      "0.9543\n",
      "0.9555\n"
     ]
    }
   ],
   "source": [
    "print(sgda_accuracies[-1])\n",
    "print(accuracies[-1])\n",
    "print(psgld_accuracies[-1])\n",
    "print(ksgld_accuracies[-1])"
   ]
  },
  {
   "cell_type": "code",
   "execution_count": null,
   "metadata": {},
   "outputs": [],
   "source": []
  }
 ],
 "metadata": {
  "kernelspec": {
   "display_name": "Python 3",
   "language": "python",
   "name": "python3"
  },
  "language_info": {
   "codemirror_mode": {
    "name": "ipython",
    "version": 3
   },
   "file_extension": ".py",
   "mimetype": "text/x-python",
   "name": "python",
   "nbconvert_exporter": "python",
   "pygments_lexer": "ipython3",
   "version": "3.6.3"
  }
 },
 "nbformat": 4,
 "nbformat_minor": 2
}
